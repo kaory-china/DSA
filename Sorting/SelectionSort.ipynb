{
 "cells": [
  {
   "cell_type": "markdown",
   "metadata": {},
   "source": []
  },
  {
   "cell_type": "markdown",
   "metadata": {},
   "source": []
  },
  {
   "cell_type": "code",
   "execution_count": 9,
   "metadata": {
    "dotnet_interactive": {
     "language": "csharp"
    },
    "polyglot_notebook": {
     "kernelName": "csharp"
    },
    "vscode": {
     "languageId": "polyglot-notebook"
    }
   },
   "outputs": [],
   "source": []
  },
  {
   "cell_type": "markdown",
   "metadata": {},
   "source": [
    "### Stability of Sorting Algorithms\n",
    "\n",
    "Stable sorting algorithm happens when two elements with equal values keep their original relative order in the sorted output.\n",
    "\n",
    "Unstable happens when the original relative order of two equal elements is not guaranteed.\n",
    "\n",
    "Why should we worry?\n",
    "It's not an issue when we are working with integers, but when we start dealing with sorting objects by more than one attribute (for example their name and then their score), altering the relative order of elements might lead to an incorrect output."
   ]
  },
  {
   "cell_type": "markdown",
   "metadata": {},
   "source": [
    "#### Selection Sort\n",
    "\n",
    "for this algorithm we will always start each iteration considering the first element as the largest one and then, compare it to each of the elements, updating the largest accordingly, until we reach the final element before the wall. then we swap the value of this index by the largest\n",
    "\n",
    "- In-place algorithm, as it uses a small amount of extra memory and doesn't depend on *n*\n",
    "- Unstable\n",
    "- Time complexity of O(n2), quadratic\n",
    "- Degrades quickly, though usually faster than Bubble Sort as there are much less swap operations\n"
   ]
  },
  {
   "cell_type": "code",
   "execution_count": 10,
   "metadata": {
    "dotnet_interactive": {
     "language": "csharp"
    },
    "polyglot_notebook": {
     "kernelName": "csharp"
    },
    "vscode": {
     "languageId": "polyglot-notebook"
    }
   },
   "outputs": [
    {
     "name": "stdout",
     "output_type": "stream",
     "text": [
      "Sorted Array: 0,2,3,4,5,6,7\r\n"
     ]
    }
   ],
   "source": [
    "public void SelectionSort(int[] array)\n",
    "{\n",
    "    for (int wall = array.Length - 1; wall > 0; wall--)\n",
    "    {\n",
    "        int largestIndex = 0;\n",
    "        for (int i = 1; i <= wall; i++)\n",
    "        {\n",
    "            if (array[i] > array[largestIndex])\n",
    "            {\n",
    "                largestIndex = i;\n",
    "            }\n",
    "        }\n",
    "        Swap(array, largestIndex, wall);\n",
    "    }\n",
    "    Console.WriteLine(\"Sorted Array: \" + string.Join(\",\", array));\n",
    "}\n",
    "\n",
    "public void Swap(int[] array, int i, int j)\n",
    "{\n",
    "    int temp = array[i];\n",
    "    array[i] = array[j];\n",
    "    array[j] = temp;\n",
    "}\n",
    "\n",
    "SelectionSort(new int[] {5, 4, 6, 3, 2, 0, 7});"
   ]
  },
  {
   "cell_type": "markdown",
   "metadata": {},
   "source": [
    "\n",
    "The outter loop keeps track of the sorted and unsorted partitions of the array, we traverse it from the last element `int wall = array.Length - 1` and decrement by one at each iteration until we reach index 1 at which point we should have the final sorted array.\n",
    "\n",
    "\n",
    "```\n",
    "for (int wall = array.Length - 1; wall > 0; wall--) {}\n",
    "```\n",
    "\n",
    "The inner loop\n",
    "\n",
    "~~~\n",
    "int largestIndex = 0;\n",
    "for (int i = 1; i <= wall; i++)\n",
    "{\n",
    "    if (array[i] > array[largestIndex])\n",
    "    {\n",
    "        largestIndex = i;\n",
    "    }\n",
    "}       \n",
    "~~~"
   ]
  }
 ],
 "metadata": {
  "kernelspec": {
   "display_name": ".NET (C#)",
   "language": "C#",
   "name": ".net-csharp"
  },
  "language_info": {
   "name": "csharp"
  },
  "polyglot_notebook": {
   "kernelInfo": {
    "defaultKernelName": "csharp",
    "items": [
     {
      "aliases": [],
      "name": "csharp"
     }
    ]
   }
  }
 },
 "nbformat": 4,
 "nbformat_minor": 2
}
